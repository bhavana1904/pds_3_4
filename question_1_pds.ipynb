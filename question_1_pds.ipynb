{
  "nbformat": 4,
  "nbformat_minor": 0,
  "metadata": {
    "colab": {
      "provenance": [],
      "authorship_tag": "ABX9TyMCuOZIMIFNj0q4BhnwN6+J",
      "include_colab_link": true
    },
    "kernelspec": {
      "name": "python3",
      "display_name": "Python 3"
    },
    "language_info": {
      "name": "python"
    }
  },
  "cells": [
    {
      "cell_type": "markdown",
      "metadata": {
        "id": "view-in-github",
        "colab_type": "text"
      },
      "source": [
        "<a href=\"https://colab.research.google.com/github/bhavana1904/pds_3_4/blob/main/question_1_pds.ipynb\" target=\"_parent\"><img src=\"https://colab.research.google.com/assets/colab-badge.svg\" alt=\"Open In Colab\"/></a>"
      ]
    },
    {
      "cell_type": "code",
      "execution_count": null,
      "metadata": {
        "id": "TgTisrPK3E4D"
      },
      "outputs": [],
      "source": []
    },
    {
      "cell_type": "code",
      "source": [
        "\n",
        "!pip install requests dash dash-core-components dash-html-components\n",
        "\n",
        "\n"
      ],
      "metadata": {
        "colab": {
          "base_uri": "https://localhost:8080/"
        },
        "id": "1_daKu7CnWxw",
        "outputId": "2be0acde-02aa-4e5d-fe08-c13285134cc5"
      },
      "execution_count": null,
      "outputs": [
        {
          "output_type": "stream",
          "name": "stdout",
          "text": [
            "Requirement already satisfied: requests in /usr/local/lib/python3.10/dist-packages (2.31.0)\n",
            "Collecting dash\n",
            "  Downloading dash-2.16.1-py3-none-any.whl (10.2 MB)\n",
            "\u001b[2K     \u001b[90m━━━━━━━━━━━━━━━━━━━━━━━━━━━━━━━━━━━━━━━━\u001b[0m \u001b[32m10.2/10.2 MB\u001b[0m \u001b[31m12.0 MB/s\u001b[0m eta \u001b[36m0:00:00\u001b[0m\n",
            "\u001b[?25hCollecting dash-core-components\n",
            "  Downloading dash_core_components-2.0.0-py3-none-any.whl (3.8 kB)\n",
            "Collecting dash-html-components\n",
            "  Downloading dash_html_components-2.0.0-py3-none-any.whl (4.1 kB)\n",
            "Requirement already satisfied: charset-normalizer<4,>=2 in /usr/local/lib/python3.10/dist-packages (from requests) (3.3.2)\n",
            "Requirement already satisfied: idna<4,>=2.5 in /usr/local/lib/python3.10/dist-packages (from requests) (3.6)\n",
            "Requirement already satisfied: urllib3<3,>=1.21.1 in /usr/local/lib/python3.10/dist-packages (from requests) (2.0.7)\n",
            "Requirement already satisfied: certifi>=2017.4.17 in /usr/local/lib/python3.10/dist-packages (from requests) (2024.2.2)\n",
            "Requirement already satisfied: Flask<3.1,>=1.0.4 in /usr/local/lib/python3.10/dist-packages (from dash) (2.2.5)\n",
            "Requirement already satisfied: Werkzeug<3.1 in /usr/local/lib/python3.10/dist-packages (from dash) (3.0.2)\n",
            "Requirement already satisfied: plotly>=5.0.0 in /usr/local/lib/python3.10/dist-packages (from dash) (5.15.0)\n",
            "Collecting dash-table==5.0.0 (from dash)\n",
            "  Downloading dash_table-5.0.0-py3-none-any.whl (3.9 kB)\n",
            "Requirement already satisfied: importlib-metadata in /usr/local/lib/python3.10/dist-packages (from dash) (7.1.0)\n",
            "Requirement already satisfied: typing-extensions>=4.1.1 in /usr/local/lib/python3.10/dist-packages (from dash) (4.11.0)\n",
            "Collecting retrying (from dash)\n",
            "  Downloading retrying-1.3.4-py3-none-any.whl (11 kB)\n",
            "Requirement already satisfied: nest-asyncio in /usr/local/lib/python3.10/dist-packages (from dash) (1.6.0)\n",
            "Requirement already satisfied: setuptools in /usr/local/lib/python3.10/dist-packages (from dash) (67.7.2)\n",
            "Requirement already satisfied: Jinja2>=3.0 in /usr/local/lib/python3.10/dist-packages (from Flask<3.1,>=1.0.4->dash) (3.1.3)\n",
            "Requirement already satisfied: itsdangerous>=2.0 in /usr/local/lib/python3.10/dist-packages (from Flask<3.1,>=1.0.4->dash) (2.1.2)\n",
            "Requirement already satisfied: click>=8.0 in /usr/local/lib/python3.10/dist-packages (from Flask<3.1,>=1.0.4->dash) (8.1.7)\n",
            "Requirement already satisfied: tenacity>=6.2.0 in /usr/local/lib/python3.10/dist-packages (from plotly>=5.0.0->dash) (8.2.3)\n",
            "Requirement already satisfied: packaging in /usr/local/lib/python3.10/dist-packages (from plotly>=5.0.0->dash) (24.0)\n",
            "Requirement already satisfied: MarkupSafe>=2.1.1 in /usr/local/lib/python3.10/dist-packages (from Werkzeug<3.1->dash) (2.1.5)\n",
            "Requirement already satisfied: zipp>=0.5 in /usr/local/lib/python3.10/dist-packages (from importlib-metadata->dash) (3.18.1)\n",
            "Requirement already satisfied: six>=1.7.0 in /usr/local/lib/python3.10/dist-packages (from retrying->dash) (1.16.0)\n",
            "Installing collected packages: dash-table, dash-html-components, dash-core-components, retrying, dash\n",
            "Successfully installed dash-2.16.1 dash-core-components-2.0.0 dash-html-components-2.0.0 dash-table-5.0.0 retrying-1.3.4\n"
          ]
        }
      ]
    },
    {
      "cell_type": "code",
      "source": [
        "import requests\n",
        "\n",
        "url = \"https://snapchat3.p.rapidapi.com/getProfile\"\n",
        "\n",
        "querystring = {\"username\":\"bhavana_0419\"}\n",
        "\n",
        "headers = {\n",
        "\t\"X-RapidAPI-Key\": \"5cbb553476msh35b3735eb1975b4p1644ccjsnaffe22e83c25\",\n",
        "\t\"X-RapidAPI-Host\": \"snapchat3.p.rapidapi.com\"\n",
        "}\n",
        "\n",
        "response = requests.get(url, headers=headers, params=querystring)\n",
        "\n",
        "print(response.json())"
      ],
      "metadata": {
        "id": "ak0Tn-oyaUk0",
        "outputId": "8b4ab8cc-fdf0-4f41-e823-278b35bbea96",
        "colab": {
          "base_uri": "https://localhost:8080/"
        }
      },
      "execution_count": null,
      "outputs": [
        {
          "output_type": "stream",
          "name": "stdout",
          "text": [
            "{'success': True, 'data': {'info': {'username': 'bhavana_0419', 'displayName': 'Bhavana Chunduri 🧚🏻\\u200d♀️✨', 'snapcodeImageUrl': 'https://app.snapchat.com/web/deeplink/snapcode?username=bhavana_0419&type=SVG&bitmoji=enable', 'bitmoji3d': {'avatarImage': {'url': 'https://images.bitmoji.com/3d/avatar/765808989-100259140600_30-s5-v1.webp', 'fallbackUrl': 'https://cf-st.sc-cdn.net/aps/snap_bitmoji/aHR0cHM6Ly9pbWFnZXMuYml0bW9qaS5jb20vM2QvYXZhdGFyLzc2NTgwODk4OS0xMDAyNTkxNDA2MDBfMzAtczUtdjEud2VicA._FMpng'}, 'backgroundImage': {'url': 'https://images.bitmoji.com/3d/background/421019927-1.webp', 'fallbackUrl': 'https://cf-st.sc-cdn.net/aps/snap_bitmoji/aHR0cHM6Ly9pbWFnZXMuYml0bW9qaS5jb20vM2QvYmFja2dyb3VuZC80MjEwMTk5MjctMS53ZWJw._FMpng'}}}, 'metadata': {'pageType': 17, 'pageTitle': 'Bhavana Chunduri 🧚🏻\\u200d♀️✨ (@bhavana_0419) | Snapchat Stories, Spotlight & Lenses', 'pageDescription': {'value': 'Bhavana Chunduri 🧚🏻\\u200d♀️✨ is on Snapchat! (@bhavana_0419)'}, 'shareId': ''}}}\n"
          ]
        }
      ]
    },
    {
      "cell_type": "code",
      "source": [],
      "metadata": {
        "id": "M-UKYdazaWFh"
      },
      "execution_count": null,
      "outputs": []
    },
    {
      "cell_type": "code",
      "source": [
        "import requests\n",
        "import pandas as pd\n",
        "\n",
        "# Prompt the user to enter the Snapchat username\n",
        "username = input(\"Enter the Snapchat username: \")\n",
        "\n",
        "# Define the URL and query parameters\n",
        "url = \"https://snapchat3.p.rapidapi.com/getProfile\"\n",
        "querystring = {\"username\": username}\n",
        "\n",
        "headers = {\n",
        "    \"X-RapidAPI-Key\": \"5cbb553476msh35b3735eb1975b4p1644ccjsnaffe22e83c25\",\n",
        "    \"X-RapidAPI-Host\": \"snapchat3.p.rapidapi.com\"\n",
        "}\n",
        "\n",
        "# Make the API request\n",
        "response = requests.get(url, headers=headers, params=querystring)\n",
        "\n",
        "# Check if the request was successful\n",
        "if response.status_code == 200:\n",
        "    # Extract relevant data from the JSON response\n",
        "    data = response.json().get('data', {}).get('info', {})\n",
        "    username = data.get('username')\n",
        "    display_name = data.get('displayName')\n",
        "    snapcode_url = data.get('snapcodeImageUrl')\n",
        "    bitmoji_url = data.get('bitmoji3d', {}).get('avatarImage', {}).get('url')\n",
        "    background_url = data.get('bitmoji3d', {}).get('backgroundImage', {}).get('url')\n",
        "\n",
        "    # Create a DataFrame to display the data\n",
        "    df = pd.DataFrame({\n",
        "        'Username': [username],\n",
        "        'Display Name': [display_name],\n",
        "        'Snapcode URL': [snapcode_url],\n",
        "        'Bitmoji URL': [bitmoji_url],\n",
        "        'Background URL': [background_url]\n",
        "    })\n",
        "\n",
        "    # Display the DataFrame\n",
        "    print(\"\\nOutput:\")\n",
        "    print(df)\n",
        "else:\n",
        "    print(f\"Error: {response.status_code}\")\n"
      ],
      "metadata": {
        "colab": {
          "base_uri": "https://localhost:8080/"
        },
        "id": "dCMBFhujZU_R",
        "outputId": "377993d5-8445-45ff-bf0f-a737e0b46089"
      },
      "execution_count": null,
      "outputs": [
        {
          "output_type": "stream",
          "name": "stdout",
          "text": [
            "Enter the Snapchat username: bhavana_0419\n",
            "\n",
            "Output:\n",
            "       Username             Display Name  \\\n",
            "0  bhavana_0419  Bhavana Chunduri 🧚🏻‍♀️✨   \n",
            "\n",
            "                                        Snapcode URL  \\\n",
            "0  https://app.snapchat.com/web/deeplink/snapcode...   \n",
            "\n",
            "                                         Bitmoji URL  \\\n",
            "0  https://images.bitmoji.com/3d/avatar/765808989...   \n",
            "\n",
            "                                      Background URL  \n",
            "0  https://images.bitmoji.com/3d/background/42101...  \n"
          ]
        }
      ]
    }
  ]
}